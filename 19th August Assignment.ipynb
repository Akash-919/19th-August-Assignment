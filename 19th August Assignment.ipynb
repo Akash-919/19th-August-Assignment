{
 "cells": [
  {
   "cell_type": "markdown",
   "id": "6db9ca8f-997c-4740-8c56-276cdbba6af4",
   "metadata": {},
   "source": [
    "Q.2"
   ]
  },
  {
   "cell_type": "code",
   "execution_count": 8,
   "id": "c5194701-fb6d-40f4-8cd3-286c22cd86f6",
   "metadata": {},
   "outputs": [],
   "source": [
    "L=10"
   ]
  },
  {
   "cell_type": "code",
   "execution_count": 9,
   "id": "f30c5893-a74e-4d5b-943a-01516bb65124",
   "metadata": {},
   "outputs": [],
   "source": [
    "W=30"
   ]
  },
  {
   "cell_type": "code",
   "execution_count": 10,
   "id": "5999063b-6eb3-4440-98b9-caa76adc28cd",
   "metadata": {},
   "outputs": [
    {
     "name": "stdout",
     "output_type": "stream",
     "text": [
      "Length 10 Width  30\n"
     ]
    }
   ],
   "source": [
    "print('Length', L,'Width ',W,)"
   ]
  },
  {
   "cell_type": "code",
   "execution_count": 11,
   "id": "0604cae2-b7cc-4d80-ab54-7c257eb462b1",
   "metadata": {},
   "outputs": [],
   "source": [
    "A=L*W"
   ]
  },
  {
   "cell_type": "code",
   "execution_count": 13,
   "id": "40ce177b-6827-4a81-b6c5-5483e7c19b3e",
   "metadata": {},
   "outputs": [
    {
     "name": "stdout",
     "output_type": "stream",
     "text": [
      "Area of rectangle 300\n"
     ]
    }
   ],
   "source": [
    "print('Area of rectangle', A)"
   ]
  },
  {
   "cell_type": "markdown",
   "id": "7925468b-2986-4b2a-8fcb-d034d3cfcecf",
   "metadata": {},
   "source": [
    "Q.3"
   ]
  },
  {
   "cell_type": "code",
   "execution_count": 22,
   "id": "e56ae130-994b-4071-b9e1-82609c89022e",
   "metadata": {},
   "outputs": [],
   "source": [
    "celsius=37.5"
   ]
  },
  {
   "cell_type": "code",
   "execution_count": 23,
   "id": "cea2808f-cae9-45b6-abff-bab853c87be3",
   "metadata": {},
   "outputs": [],
   "source": [
    "fahrenheit=(celsius*1.8)+32"
   ]
  },
  {
   "cell_type": "code",
   "execution_count": 24,
   "id": "1118f0e1-0c11-44bf-8ca5-b8643477fdef",
   "metadata": {},
   "outputs": [
    {
     "name": "stdout",
     "output_type": "stream",
     "text": [
      "37.5degree celsius is equal to 99.500000 degree fahrenheit\n"
     ]
    }
   ],
   "source": [
    "print('%0.1fdegree celsius is equal to %01f degree fahrenheit'% (celsius, fahrenheit))"
   ]
  },
  {
   "cell_type": "markdown",
   "id": "f63de4de-609d-4057-8516-2c99eb7395e5",
   "metadata": {},
   "source": [
    "Q1"
   ]
  },
  {
   "cell_type": "code",
   "execution_count": 45,
   "id": "b06ee77b-e88d-4a1a-82e2-30939cf8b0dc",
   "metadata": {},
   "outputs": [],
   "source": [
    "x,y=1,2"
   ]
  },
  {
   "cell_type": "code",
   "execution_count": 46,
   "id": "61bd5be9-5902-449b-90f9-f068a1803676",
   "metadata": {},
   "outputs": [
    {
     "name": "stdout",
     "output_type": "stream",
     "text": [
      "1 2\n"
     ]
    }
   ],
   "source": [
    "print(x,y)"
   ]
  },
  {
   "cell_type": "code",
   "execution_count": 47,
   "id": "6e3508c0-002a-4e6c-af16-0a628351ad8a",
   "metadata": {},
   "outputs": [],
   "source": [
    "x,y=y,x"
   ]
  },
  {
   "cell_type": "code",
   "execution_count": 48,
   "id": "9c480107-db39-4639-bc47-e6bab6746472",
   "metadata": {},
   "outputs": [
    {
     "name": "stdout",
     "output_type": "stream",
     "text": [
      "2 1\n"
     ]
    }
   ],
   "source": [
    "print(x,y)"
   ]
  },
  {
   "cell_type": "markdown",
   "id": "4c87bdab-ccdb-4d36-917f-478ecbd72941",
   "metadata": {},
   "source": [
    "STRINGS:"
   ]
  },
  {
   "cell_type": "markdown",
   "id": "0481bb05-f462-4882-b271-a5a8b10caa92",
   "metadata": {},
   "source": [
    "Q:1"
   ]
  },
  {
   "cell_type": "code",
   "execution_count": 7,
   "id": "fbeb2162-8305-4303-b720-e11dcd3709dd",
   "metadata": {},
   "outputs": [],
   "source": [
    "A=('My name is Akash')"
   ]
  },
  {
   "cell_type": "code",
   "execution_count": 8,
   "id": "bd73c77f-c67c-4c62-b63b-d2fbaf6f78cb",
   "metadata": {},
   "outputs": [
    {
     "data": {
      "text/plain": [
       "'My name is Akash'"
      ]
     },
     "execution_count": 8,
     "metadata": {},
     "output_type": "execute_result"
    }
   ],
   "source": [
    "A"
   ]
  },
  {
   "cell_type": "code",
   "execution_count": 9,
   "id": "34d3d57d-10f5-4c01-a5a0-33610fb8d250",
   "metadata": {},
   "outputs": [
    {
     "data": {
      "text/plain": [
       "16"
      ]
     },
     "execution_count": 9,
     "metadata": {},
     "output_type": "execute_result"
    }
   ],
   "source": [
    "len(A)"
   ]
  },
  {
   "cell_type": "markdown",
   "id": "5e4c9f43-4696-425d-89cd-83bdebedf08d",
   "metadata": {},
   "source": [
    "Q.3"
   ]
  },
  {
   "cell_type": "code",
   "execution_count": 10,
   "id": "b855fda0-dbb1-4c7d-aee0-b886fde28c03",
   "metadata": {},
   "outputs": [],
   "source": [
    "S=('Pwskills')"
   ]
  },
  {
   "cell_type": "code",
   "execution_count": null,
   "id": "9b4a6c4d-0322-4900-acf3-ede6d9ceb93a",
   "metadata": {},
   "outputs": [
    {
     "data": {
      "text/plain": [
       "'sllikswP'"
      ]
     },
     "execution_count": 11,
     "metadata": {},
     "output_type": "execute_result"
    }
   ],
   "source": [
    "S[::-1]"
   ]
  },
  {
   "cell_type": "markdown",
   "id": "f0bd2819-88a0-48e8-9210-cc8f01f9e548",
   "metadata": {},
   "source": [
    "Q.2"
   ]
  },
  {
   "cell_type": "code",
   "execution_count": 14,
   "id": "c03dcdcc-1d65-4b60-be60-20829e716ba8",
   "metadata": {},
   "outputs": [],
   "source": [
    "s = \"my name is akash and i have an umbrella, owl and elephant\""
   ]
  },
  {
   "cell_type": "code",
   "execution_count": 15,
   "id": "47dae7c1-acdc-4a4c-b2ab-71f75716a82b",
   "metadata": {},
   "outputs": [
    {
     "data": {
      "text/plain": [
       "'my name is akash and i have an umbrella, owl and elephant'"
      ]
     },
     "execution_count": 15,
     "metadata": {},
     "output_type": "execute_result"
    }
   ],
   "source": [
    "s"
   ]
  },
  {
   "cell_type": "code",
   "execution_count": 8,
   "id": "3c7fa938-e6fc-48c2-8ad9-01050a37c23a",
   "metadata": {},
   "outputs": [
    {
     "data": {
      "text/plain": [
       "5"
      ]
     },
     "execution_count": 8,
     "metadata": {},
     "output_type": "execute_result"
    }
   ],
   "source": [
    "s.count('e')"
   ]
  },
  {
   "cell_type": "code",
   "execution_count": 10,
   "id": "cce204ec-8e8e-435f-a2ad-944f4fbacd6d",
   "metadata": {},
   "outputs": [
    {
     "data": {
      "text/plain": [
       "2"
      ]
     },
     "execution_count": 10,
     "metadata": {},
     "output_type": "execute_result"
    }
   ],
   "source": [
    "s.count('i')"
   ]
  },
  {
   "cell_type": "code",
   "execution_count": 11,
   "id": "be28f8b9-35a2-48cd-a54f-036ed7fe0803",
   "metadata": {},
   "outputs": [
    {
     "data": {
      "text/plain": [
       "1"
      ]
     },
     "execution_count": 11,
     "metadata": {},
     "output_type": "execute_result"
    }
   ],
   "source": [
    "s.count('o')"
   ]
  },
  {
   "cell_type": "code",
   "execution_count": 12,
   "id": "f3d0bca7-0ab0-4ea5-9879-312785f632d4",
   "metadata": {},
   "outputs": [
    {
     "data": {
      "text/plain": [
       "1"
      ]
     },
     "execution_count": 12,
     "metadata": {},
     "output_type": "execute_result"
    }
   ],
   "source": [
    "s.count('u')"
   ]
  },
  {
   "cell_type": "code",
   "execution_count": 16,
   "id": "3b08c75c-465f-4702-8815-991a3e5da324",
   "metadata": {},
   "outputs": [
    {
     "data": {
      "text/plain": [
       "9"
      ]
     },
     "execution_count": 16,
     "metadata": {},
     "output_type": "execute_result"
    }
   ],
   "source": [
    "s.count('a')"
   ]
  },
  {
   "cell_type": "code",
   "execution_count": 17,
   "id": "c90e830e-a5a8-4d91-a9bc-017fc38a5f5b",
   "metadata": {},
   "outputs": [],
   "source": [
    "a1=\"you are the best         \""
   ]
  },
  {
   "cell_type": "code",
   "execution_count": 18,
   "id": "fdc9ef08-903a-4f0a-81ce-85bddedcf843",
   "metadata": {},
   "outputs": [
    {
     "data": {
      "text/plain": [
       "'you are the best         '"
      ]
     },
     "execution_count": 18,
     "metadata": {},
     "output_type": "execute_result"
    }
   ],
   "source": [
    "a1"
   ]
  },
  {
   "cell_type": "code",
   "execution_count": 19,
   "id": "0892950c-2da0-4d0b-9ffe-46084cc94bda",
   "metadata": {},
   "outputs": [
    {
     "data": {
      "text/plain": [
       "25"
      ]
     },
     "execution_count": 19,
     "metadata": {},
     "output_type": "execute_result"
    }
   ],
   "source": [
    "len(a1)"
   ]
  },
  {
   "cell_type": "code",
   "execution_count": 31,
   "id": "b4ea87e6-b1d7-4b87-ba52-ef07470a570a",
   "metadata": {},
   "outputs": [
    {
     "data": {
      "text/plain": [
       "'you are the best'"
      ]
     },
     "execution_count": 31,
     "metadata": {},
     "output_type": "execute_result"
    }
   ],
   "source": [
    "a1.rstrip()"
   ]
  },
  {
   "cell_type": "code",
   "execution_count": 32,
   "id": "dc7e6dac-c2aa-4001-828e-7673cf3c60e6",
   "metadata": {},
   "outputs": [],
   "source": [
    "a2=\"                you are the best\""
   ]
  },
  {
   "cell_type": "code",
   "execution_count": 33,
   "id": "4518732b-600f-435b-aab1-a121c70ded35",
   "metadata": {},
   "outputs": [
    {
     "data": {
      "text/plain": [
       "'                you are the best'"
      ]
     },
     "execution_count": 33,
     "metadata": {},
     "output_type": "execute_result"
    }
   ],
   "source": [
    "a2"
   ]
  },
  {
   "cell_type": "code",
   "execution_count": 35,
   "id": "b613f873-3c6a-4f1a-8982-d1dfd8d435a9",
   "metadata": {},
   "outputs": [
    {
     "data": {
      "text/plain": [
       "'you are the best'"
      ]
     },
     "execution_count": 35,
     "metadata": {},
     "output_type": "execute_result"
    }
   ],
   "source": [
    "a2.lstrip()"
   ]
  },
  {
   "cell_type": "code",
   "execution_count": null,
   "id": "ec9fe543-e636-4356-93f4-e31c120fe418",
   "metadata": {},
   "outputs": [],
   "source": [
    "a1."
   ]
  }
 ],
 "metadata": {
  "kernelspec": {
   "display_name": "Python 3 (ipykernel)",
   "language": "python",
   "name": "python3"
  },
  "language_info": {
   "codemirror_mode": {
    "name": "ipython",
    "version": 3
   },
   "file_extension": ".py",
   "mimetype": "text/x-python",
   "name": "python",
   "nbconvert_exporter": "python",
   "pygments_lexer": "ipython3",
   "version": "3.10.8"
  }
 },
 "nbformat": 4,
 "nbformat_minor": 5
}
